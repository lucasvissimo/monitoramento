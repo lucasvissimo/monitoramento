{
  "cells": [
    {
      "cell_type": "markdown",
      "metadata": {},
      "source": [
        "# 🔄 RPA Kestra - Extração de Status de Execução\n",
        "\n",
        "Este notebook implementa um RPA (Robotic Process Automation) para extrair automaticamente o status de execução dos flows do Kestra.\n",
        "\n",
        "## 📋 Objetivo\n",
        "- Extrair dados de status dos flows do namespace `rpa.varejofacil`\n",
        "- Monitorar execuções e seus status\n",
        "- Gerar relatórios automatizados\n",
        "\n",
        "## 🔗 URL Base\n",
        "https://kestra.vissimo.tech/ui/main/flows?namespace=rpa.varejofacil&scope=USER&size=100&page=1&filters[scope][EQUALS]=USER&filters[namespace][PREFIX]=rpa.varejofacil\n"
      ]
    },
    {
      "cell_type": "markdown",
      "metadata": {},
      "source": [
        "## 📦 Instalação e Importação de Bibliotecas\n"
      ]
    },
    {
      "cell_type": "code",
      "execution_count": 3,
      "metadata": {},
      "outputs": [
        {
          "name": "stdout",
          "output_type": "stream",
          "text": [
            "✅ Bibliotecas importadas com sucesso!\n"
          ]
        }
      ],
      "source": [
        "# Instalar bibliotecas necessárias (execute apenas se não estiverem instaladas)\n",
        "# !pip install requests beautifulsoup4 selenium pandas matplotlib seaborn plotly\n",
        "\n",
        "import requests\n",
        "import json\n",
        "import pandas as pd\n",
        "import matplotlib.pyplot as plt\n",
        "import seaborn as sns\n",
        "from datetime import datetime, timedelta\n",
        "import time\n",
        "import warnings\n",
        "warnings.filterwarnings('ignore')\n",
        "\n",
        "# Para automação web (se necessário)\n",
        "from selenium import webdriver\n",
        "from selenium.webdriver.common.by import By\n",
        "from selenium.webdriver.support.ui import WebDriverWait\n",
        "from selenium.webdriver.support import expected_conditions as EC\n",
        "from selenium.webdriver.chrome.options import Options\n",
        "from selenium.common.exceptions import TimeoutException, NoSuchElementException\n",
        "\n",
        "# Para parsing HTML\n",
        "from bs4 import BeautifulSoup\n",
        "\n",
        "print(\"✅ Bibliotecas importadas com sucesso!\")\n"
      ]
    },
    {
      "cell_type": "markdown",
      "metadata": {},
      "source": [
        "## 🔧 Configurações e Credenciais\n"
      ]
    },
    {
      "cell_type": "code",
      "execution_count": 4,
      "metadata": {},
      "outputs": [
        {
          "name": "stdout",
          "output_type": "stream",
          "text": [
            "🔧 Configurações carregadas:\n",
            "   Base URL: https://api.evino.com.br/kestra\n",
            "   Tenant: main\n",
            "   Namespace: rpa.varejofacil\n",
            "   Web URL: https://kestra.vissimo.tech/ui/main/flows?namespace=rpa.varejofacil&scope=USER&size=100&page=1&filters[scope][EQUALS]=USER&filters[namespace][PREFIX]=rpa.varejofacil\n"
          ]
        }
      ],
      "source": [
        "# Configurações da API Kestra\n",
        "KESTRA_CONFIG = {\n",
        "    'base_url': 'https://api.evino.com.br/kestra',\n",
        "    'api_key': 'ELFkM8LTsLpTmbvzVyVqCslVDfBdNACP',\n",
        "    'tenant': 'main',\n",
        "    'namespace': 'rpa.varejofacil'\n",
        "}\n",
        "\n",
        "# URL da interface web\n",
        "WEB_URL = \"https://kestra.vissimo.tech/ui/main/flows?namespace=rpa.varejofacil&scope=USER&size=100&page=1&filters[scope][EQUALS]=USER&filters[namespace][PREFIX]=rpa.varejofacil\"\n",
        "\n",
        "# Headers para requisições\n",
        "HEADERS = {\n",
        "    'X-EVINO-KESTRA-API-KEY': KESTRA_CONFIG['api_key'],\n",
        "    'Content-Type': 'application/json',\n",
        "    'Accept': 'application/json',\n",
        "    'User-Agent': 'MonitorDW/1.0'\n",
        "}\n",
        "\n",
        "print(\"🔧 Configurações carregadas:\")\n",
        "print(f\"   Base URL: {KESTRA_CONFIG['base_url']}\")\n",
        "print(f\"   Tenant: {KESTRA_CONFIG['tenant']}\")\n",
        "print(f\"   Namespace: {KESTRA_CONFIG['namespace']}\")\n",
        "print(f\"   Web URL: {WEB_URL}\")\n"
      ]
    },
    {
      "cell_type": "markdown",
      "metadata": {},
      "source": [
        "## 🌐 Método 1: API REST (Recomendado)\n"
      ]
    },
    {
      "cell_type": "code",
      "execution_count": 5,
      "metadata": {},
      "outputs": [
        {
          "name": "stdout",
          "output_type": "stream",
          "text": [
            "🔍 Testando conexão com: https://api.evino.com.br/kestra/api/v1/main/namespaces\n",
            "📊 Status Code: 403\n",
            "❌ Acesso negado (403) - Verificar permissões da API Key\n",
            "\n",
            "📋 Resposta da API: {\"message\":\"Invalid authentication credentials\"}\n"
          ]
        }
      ],
      "source": [
        "def test_kestra_api_connection():\n",
        "    \"\"\"Testa a conexão com a API do Kestra\"\"\"\n",
        "    try:\n",
        "        # Teste básico de conectividade\n",
        "        url = f\"{KESTRA_CONFIG['base_url']}/api/v1/{KESTRA_CONFIG['tenant']}/namespaces\"\n",
        "        response = requests.get(url, headers=HEADERS, timeout=10)\n",
        "        \n",
        "        print(f\"🔍 Testando conexão com: {url}\")\n",
        "        print(f\"📊 Status Code: {response.status_code}\")\n",
        "        \n",
        "        if response.status_code == 200:\n",
        "            print(\"✅ Conexão bem-sucedida!\")\n",
        "            return True, response.json()\n",
        "        elif response.status_code == 403:\n",
        "            print(\"❌ Acesso negado (403) - Verificar permissões da API Key\")\n",
        "            return False, response.text\n",
        "        elif response.status_code == 401:\n",
        "            print(\"❌ Não autorizado (401) - Verificar API Key\")\n",
        "            return False, response.text\n",
        "        else:\n",
        "            print(f\"❌ Erro inesperado: {response.status_code}\")\n",
        "            return False, response.text\n",
        "            \n",
        "    except requests.exceptions.Timeout:\n",
        "        print(\"❌ Timeout na conexão\")\n",
        "        return False, \"Timeout\"\n",
        "    except requests.exceptions.ConnectionError:\n",
        "        print(\"❌ Erro de conexão\")\n",
        "        return False, \"Connection Error\"\n",
        "    except Exception as e:\n",
        "        print(f\"❌ Erro inesperado: {str(e)}\")\n",
        "        return False, str(e)\n",
        "\n",
        "# Testar conexão\n",
        "api_connected, api_response = test_kestra_api_connection()\n",
        "print(f\"\\n📋 Resposta da API: {api_response}\")\n"
      ]
    },
    {
      "cell_type": "code",
      "execution_count": 6,
      "metadata": {},
      "outputs": [
        {
          "name": "stdout",
          "output_type": "stream",
          "text": [
            "⚠️ API não disponível, usando método alternativo (Web Scraping)\n"
          ]
        }
      ],
      "source": [
        "def get_kestra_flows():\n",
        "    \"\"\"Obtém lista de flows do Kestra\"\"\"\n",
        "    try:\n",
        "        url = f\"{KESTRA_CONFIG['base_url']}/api/v1/{KESTRA_CONFIG['tenant']}/flows\"\n",
        "        response = requests.get(url, headers=HEADERS, timeout=10)\n",
        "        \n",
        "        if response.status_code == 200:\n",
        "            flows = response.json()\n",
        "            print(f\"✅ {len(flows)} flows encontrados\")\n",
        "            return flows\n",
        "        else:\n",
        "            print(f\"❌ Erro ao obter flows: {response.status_code}\")\n",
        "            return []\n",
        "    except Exception as e:\n",
        "        print(f\"❌ Erro: {str(e)}\")\n",
        "        return []\n",
        "\n",
        "def get_kestra_executions():\n",
        "    \"\"\"Obtém execuções do Kestra\"\"\"\n",
        "    try:\n",
        "        url = f\"{KESTRA_CONFIG['base_url']}/api/v1/{KESTRA_CONFIG['tenant']}/executions\"\n",
        "        response = requests.get(url, headers=HEADERS, timeout=10)\n",
        "        \n",
        "        if response.status_code == 200:\n",
        "            executions = response.json()\n",
        "            print(f\"✅ {len(executions)} execuções encontradas\")\n",
        "            return executions\n",
        "        else:\n",
        "            print(f\"❌ Erro ao obter execuções: {response.status_code}\")\n",
        "            return []\n",
        "    except Exception as e:\n",
        "        print(f\"❌ Erro: {str(e)}\")\n",
        "        return []\n",
        "\n",
        "# Tentar obter dados via API\n",
        "if api_connected:\n",
        "    flows = get_kestra_flows()\n",
        "    executions = get_kestra_executions()\n",
        "else:\n",
        "    print(\"⚠️ API não disponível, usando método alternativo (Web Scraping)\")\n",
        "    flows = []\n",
        "    executions = []\n"
      ]
    },
    {
      "cell_type": "markdown",
      "metadata": {},
      "source": [
        "## 🕷️ Método 2: Web Scraping (Fallback)\n"
      ]
    },
    {
      "cell_type": "code",
      "execution_count": 7,
      "metadata": {},
      "outputs": [
        {
          "name": "stdout",
          "output_type": "stream",
          "text": [
            "🕷️ Executando web scraping...\n",
            "🌐 Acessando: https://kestra.vissimo.tech/ui/main/flows?namespace=rpa.varejofacil&scope=USER&size=100&page=1&filters[scope][EQUALS]=USER&filters[namespace][PREFIX]=rpa.varejofacil\n",
            "❌ Timeout ao carregar página\n"
          ]
        }
      ],
      "source": [
        "def setup_selenium_driver():\n",
        "    \"\"\"Configura o driver do Selenium\"\"\"\n",
        "    chrome_options = Options()\n",
        "    chrome_options.add_argument('--headless')  # Executar sem interface gráfica\n",
        "    chrome_options.add_argument('--no-sandbox')\n",
        "    chrome_options.add_argument('--disable-dev-shm-usage')\n",
        "    chrome_options.add_argument('--disable-gpu')\n",
        "    chrome_options.add_argument('--window-size=1920,1080')\n",
        "    \n",
        "    try:\n",
        "        driver = webdriver.Chrome(options=chrome_options)\n",
        "        return driver\n",
        "    except Exception as e:\n",
        "        print(f\"❌ Erro ao configurar Selenium: {str(e)}\")\n",
        "        print(\"💡 Instale o ChromeDriver: https://chromedriver.chromium.org/\")\n",
        "        return None\n",
        "\n",
        "def scrape_kestra_data():\n",
        "    \"\"\"Extrai dados do Kestra via web scraping\"\"\"\n",
        "    driver = setup_selenium_driver()\n",
        "    if not driver:\n",
        "        return []\n",
        "    \n",
        "    try:\n",
        "        print(f\"🌐 Acessando: {WEB_URL}\")\n",
        "        driver.get(WEB_URL)\n",
        "        \n",
        "        # Aguardar carregamento da página\n",
        "        WebDriverWait(driver, 10).until(\n",
        "            EC.presence_of_element_located((By.TAG_NAME, \"table\"))\n",
        "        )\n",
        "        \n",
        "        # Extrair dados da tabela\n",
        "        flows_data = []\n",
        "        \n",
        "        # Encontrar todas as linhas da tabela\n",
        "        rows = driver.find_elements(By.CSS_SELECTOR, \"tbody tr\")\n",
        "        \n",
        "        for row in rows:\n",
        "            try:\n",
        "                cells = row.find_elements(By.TAG_NAME, \"td\")\n",
        "                if len(cells) >= 5:  # Verificar se tem colunas suficientes\n",
        "                    flow_id = cells[0].text.strip()\n",
        "                    namespace = cells[2].text.strip()\n",
        "                    last_execution_date = cells[3].text.strip()\n",
        "                    last_execution_status = cells[4].text.strip()\n",
        "                    \n",
        "                    flows_data.append({\n",
        "                        'flow_id': flow_id,\n",
        "                        'namespace': namespace,\n",
        "                        'last_execution_date': last_execution_date,\n",
        "                        'last_execution_status': last_execution_status,\n",
        "                        'extracted_at': datetime.now().strftime('%Y-%m-%d %H:%M:%S')\n",
        "                    })\n",
        "            except Exception as e:\n",
        "                print(f\"⚠️ Erro ao processar linha: {str(e)}\")\n",
        "                continue\n",
        "        \n",
        "        print(f\"✅ {len(flows_data)} flows extraídos via web scraping\")\n",
        "        return flows_data\n",
        "        \n",
        "    except TimeoutException:\n",
        "        print(\"❌ Timeout ao carregar página\")\n",
        "        return []\n",
        "    except Exception as e:\n",
        "        print(f\"❌ Erro no web scraping: {str(e)}\")\n",
        "        return []\n",
        "    finally:\n",
        "        driver.quit()\n",
        "\n",
        "# Executar web scraping se API não estiver disponível\n",
        "if not api_connected or not flows:\n",
        "    print(\"🕷️ Executando web scraping...\")\n",
        "    scraped_data = scrape_kestra_data()\n",
        "else:\n",
        "    scraped_data = []\n"
      ]
    },
    {
      "cell_type": "markdown",
      "metadata": {},
      "source": []
    }
  ],
  "metadata": {
    "kernelspec": {
      "display_name": "Python 3",
      "language": "python",
      "name": "python3"
    },
    "language_info": {
      "codemirror_mode": {
        "name": "ipython",
        "version": 3
      },
      "file_extension": ".py",
      "mimetype": "text/x-python",
      "name": "python",
      "nbconvert_exporter": "python",
      "pygments_lexer": "ipython3",
      "version": "3.12.7"
    }
  },
  "nbformat": 4,
  "nbformat_minor": 2
}
